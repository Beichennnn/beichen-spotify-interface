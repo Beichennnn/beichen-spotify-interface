{
 "cells": [
  {
   "cell_type": "code",
   "execution_count": 1,
   "id": "71f66f7f-b209-4128-9a3c-19a18e247ef9",
   "metadata": {},
   "outputs": [],
   "source": [
    "import spotipy\n",
    "import json\n",
    "import webbrowser\n",
    "import urllib.request\n",
    "import spotipy.util as util\n"
   ]
  },
  {
   "cell_type": "code",
   "execution_count": 2,
   "id": "a03cdc4b-88d6-4c71-96b7-8ea2fac9d9b1",
   "metadata": {},
   "outputs": [
    {
     "name": "stdout",
     "output_type": "stream",
     "text": [
      "ded46614c79d4af0915142557242910\n"
     ]
    }
   ],
   "source": [
    "# weather_file is a variable name representing my file\n",
    "with open('weather_key.txt','r') as weather_file:\n",
    "    weather_key = weather_file.read()"
   ]
  },
  {
   "cell_type": "code",
   "execution_count": 4,
   "id": "0c37012a-bd95-42e7-947c-bd53b86c4714",
   "metadata": {},
   "outputs": [],
   "source": [
    "url = f\"http://api.weatherapi.com/v1/current.json?key={weather_key}&q=London&aqi=no\""
   ]
  },
  {
   "cell_type": "code",
   "execution_count": 5,
   "id": "fe50a7d0-6f4d-4383-ab0c-e1013678a98b",
   "metadata": {},
   "outputs": [],
   "source": [
    "# sending our url to the interwebs\n",
    "request = urllib.request.Request(url)\n",
    "# capture all the JSON coming back from the interwebs\n",
    "response = urllib.request.urlopen(request)"
   ]
  },
  {
   "cell_type": "code",
   "execution_count": 6,
   "id": "70151c5b-43db-4859-ae4b-02ed7c32b79c",
   "metadata": {},
   "outputs": [
    {
     "name": "stdout",
     "output_type": "stream",
     "text": [
      "<http.client.HTTPResponse object at 0x000001527CB4F4F0>\n"
     ]
    }
   ],
   "source": [
    "print(response)"
   ]
  },
  {
   "cell_type": "code",
   "execution_count": 7,
   "id": "b29f54d0-67d1-47d0-913f-5be14815da52",
   "metadata": {},
   "outputs": [
    {
     "name": "stdout",
     "output_type": "stream",
     "text": [
      "{'location': {'name': 'London', 'region': 'City of London, Greater London', 'country': 'United Kingdom', 'lat': 51.5171, 'lon': -0.1062, 'tz_id': 'Europe/London', 'localtime_epoch': 1730215172, 'localtime': '2024-10-29 15:19'}, 'current': {'last_updated_epoch': 1730214900, 'last_updated': '2024-10-29 15:15', 'temp_c': 15.1, 'temp_f': 59.2, 'is_day': 1, 'condition': {'text': 'Overcast', 'icon': '//cdn.weatherapi.com/weather/64x64/day/122.png', 'code': 1009}, 'wind_mph': 3.1, 'wind_kph': 5.0, 'wind_degree': 259, 'wind_dir': 'W', 'pressure_mb': 1024.0, 'pressure_in': 30.24, 'precip_mm': 0.0, 'precip_in': 0.0, 'humidity': 82, 'cloud': 50, 'feelslike_c': 15.1, 'feelslike_f': 59.2, 'windchill_c': 15.1, 'windchill_f': 59.1, 'heatindex_c': 14.7, 'heatindex_f': 58.4, 'dewpoint_c': 10.0, 'dewpoint_f': 50.0, 'vis_km': 10.0, 'vis_miles': 6.0, 'uv': 0.5, 'gust_mph': 4.9, 'gust_kph': 8.0}}\n"
     ]
    }
   ],
   "source": [
    "# pull out the JSON from the response object\n",
    "# loads converts a JSON string into a python dictionary\n",
    "weather_json = json.loads(response.read())\n",
    "print(weather_json)"
   ]
  },
  {
   "cell_type": "code",
   "execution_count": 10,
   "id": "f6ff5388-f96f-489d-9c18-52bb877c7ada",
   "metadata": {},
   "outputs": [
    {
     "name": "stdout",
     "output_type": "stream",
     "text": [
      "Overcast\n"
     ]
    }
   ],
   "source": [
    "forecast = weather_json['current']['condition']['text']\n",
    "print(forecast)"
   ]
  },
  {
   "cell_type": "code",
   "execution_count": 49,
   "id": "5adf9f53-3244-4587-b885-928b3ad27b43",
   "metadata": {},
   "outputs": [],
   "source": [
    "# open my spotify_keys and read them\n",
    "# 'r' is for read (ie we aren't writing to this file)\n",
    "# spotify_file is a variable name and \n",
    "with open('spotify_keys.json','r') as spotify_file:\n",
    "    # load reads a JSON string from a file\n",
    "    tokens = json.load(spotify_file)"
   ]
  },
  {
   "cell_type": "code",
   "execution_count": 50,
   "id": "40479cdb-027f-4548-8801-139cf9a0c482",
   "metadata": {},
   "outputs": [],
   "source": [
    "my_client_id = tokens['client_id']\n",
    "client_secret = tokens['client_secret']\n",
    "redirectURI = tokens['redirect']\n",
    "username = tokens['username']"
   ]
  },
  {
   "cell_type": "code",
   "execution_count": 51,
   "id": "41d95158-db4a-4d99-9e7e-cfb35526d354",
   "metadata": {},
   "outputs": [
    {
     "name": "stdin",
     "output_type": "stream",
     "text": [
      "Enter the URL you were redirected to:  https://www.google.com/?code=AQCM0-tvZ98exyj0c21QVmGjU9VH4UMN1NLHGuIKiG4IR44nRMkK7G7SJgGvgeu2bsUqFfLCv4tOLRqh3pMaaUPiRd1vSoWLzzJf20YNcff4-NDq8MCaXOH-h1721noYzhCVpvMpdbVQ4rAV__LQlFyB7Lr4bsYfjEQoISpC3lwO3ZEMmD_0_rQ0c5T5P-EvGUT396P8i7GppD6-I5G6k5K4KxvTvqFcIh_qo7TozvnrwO5bSQWqYG2nsYPez9yJorgSidZeRGeKeG32Z3qXO7hwer9PNRI\n"
     ]
    }
   ],
   "source": [
    "scope = 'user-read-private user-read-playback-state user-modify-playback-state playlist-modify-public'\n",
    "# 'prompt_for_user_token' need some variable \n",
    "# left side of the = comes from the library\n",
    "# Right side of the = is my variable\n",
    "token = util.prompt_for_user_token(username, scope, client_id=my_client_id, client_secret=client_secret,redirect_uri=redirectURI)"
   ]
  },
  {
   "cell_type": "code",
   "execution_count": 63,
   "id": "6695e611-4c67-4a5a-adcd-0f4fd0248a53",
   "metadata": {},
   "outputs": [],
   "source": [
    "# we are creating an object (sp) that can interact with the spotify API\n",
    "sp = spotipy.Spotify(auth=token)"
   ]
  },
  {
   "cell_type": "code",
   "execution_count": 53,
   "id": "a1427043-9428-4e5e-b48f-c8dabf36db5f",
   "metadata": {},
   "outputs": [
    {
     "name": "stdout",
     "output_type": "stream",
     "text": [
      "{'devices': [{'id': 'ccf6345e44916b8879500580b07a2b32d894a3b9', 'is_active': False, 'is_private_session': False, 'is_restricted': False, 'name': 'LAPTOP-N2VBTT4D', 'supports_volume': True, 'type': 'Computer', 'volume_percent': 100}]}\n"
     ]
    }
   ],
   "source": [
    "# if have sporify install\n",
    "devices = sp.devices()\n",
    "print(devices)"
   ]
  },
  {
   "cell_type": "code",
   "execution_count": 54,
   "id": "fd099328-20f3-4b71-8583-ccd729fd95d2",
   "metadata": {},
   "outputs": [
    {
     "name": "stdout",
     "output_type": "stream",
     "text": [
      "ccf6345e44916b8879500580b07a2b32d894a3b9\n"
     ]
    }
   ],
   "source": [
    "deviceID = devices['devices'][0]['id']\n",
    "print(deviceID)"
   ]
  },
  {
   "cell_type": "code",
   "execution_count": 55,
   "id": "6ed6c4f6-4722-402e-9090-827c8aa7f4bc",
   "metadata": {},
   "outputs": [],
   "source": [
    "track_results = sp.search(q=forecast, type='track', limit=50)"
   ]
  },
  {
   "cell_type": "code",
   "execution_count": 56,
   "id": "28c85896-5f3b-4dae-887d-b22d84c2be52",
   "metadata": {},
   "outputs": [],
   "source": [
    "song_data = track_results['tracks']['items']"
   ]
  },
  {
   "cell_type": "code",
   "execution_count": 57,
   "id": "454d38f6-4830-4afd-a2fe-c085bd3482e2",
   "metadata": {},
   "outputs": [
    {
     "name": "stdout",
     "output_type": "stream",
     "text": [
      "{'album': {'album_type': 'album', 'artists': [{'external_urls': {'spotify': 'https://open.spotify.com/artist/4fSMtiyC6lF5BUO1tUMWMs'}, 'href': 'https://api.spotify.com/v1/artists/4fSMtiyC6lF5BUO1tUMWMs', 'id': '4fSMtiyC6lF5BUO1tUMWMs', 'name': 'Kevin MacLeod', 'type': 'artist', 'uri': 'spotify:artist:4fSMtiyC6lF5BUO1tUMWMs'}], 'available_markets': ['AR', 'AU', 'AT', 'BE', 'BO', 'BR', 'BG', 'CA', 'CL', 'CO', 'CR', 'CY', 'CZ', 'DK', 'DO', 'DE', 'EC', 'EE', 'SV', 'FI', 'FR', 'GR', 'GT', 'HN', 'HK', 'HU', 'IS', 'IE', 'IT', 'LV', 'LT', 'LU', 'MY', 'MT', 'MX', 'NL', 'NZ', 'NI', 'NO', 'PA', 'PY', 'PE', 'PH', 'PL', 'PT', 'SG', 'SK', 'ES', 'SE', 'CH', 'TW', 'TR', 'UY', 'US', 'GB', 'AD', 'LI', 'MC', 'ID', 'JP', 'TH', 'VN', 'RO', 'IL', 'ZA', 'SA', 'AE', 'BH', 'QA', 'OM', 'KW', 'EG', 'MA', 'DZ', 'TN', 'LB', 'JO', 'PS', 'IN', 'BY', 'KZ', 'MD', 'UA', 'AL', 'BA', 'HR', 'ME', 'MK', 'RS', 'SI', 'KR', 'BD', 'PK', 'LK', 'GH', 'KE', 'NG', 'TZ', 'UG', 'AG', 'AM', 'BS', 'BB', 'BZ', 'BT', 'BW', 'BF', 'CV', 'CW', 'DM', 'FJ', 'GM', 'GE', 'GD', 'GW', 'GY', 'HT', 'JM', 'KI', 'LS', 'LR', 'MW', 'MV', 'ML', 'MH', 'FM', 'NA', 'NR', 'NE', 'PW', 'PG', 'PR', 'WS', 'SM', 'ST', 'SN', 'SC', 'SL', 'SB', 'KN', 'LC', 'VC', 'SR', 'TL', 'TO', 'TT', 'TV', 'VU', 'AZ', 'BN', 'BI', 'KH', 'CM', 'TD', 'KM', 'GQ', 'SZ', 'GA', 'GN', 'KG', 'LA', 'MO', 'MR', 'MN', 'NP', 'RW', 'TG', 'UZ', 'ZW', 'BJ', 'MG', 'MU', 'MZ', 'AO', 'CI', 'DJ', 'ZM', 'CD', 'CG', 'IQ', 'LY', 'TJ', 'VE', 'ET', 'XK'], 'external_urls': {'spotify': 'https://open.spotify.com/album/4R88Ml4Ecn7I94c4SyShcd'}, 'href': 'https://api.spotify.com/v1/albums/4R88Ml4Ecn7I94c4SyShcd', 'id': '4R88Ml4Ecn7I94c4SyShcd', 'images': [{'height': 640, 'url': 'https://i.scdn.co/image/ab67616d0000b2735acd0df739682efabb292b87', 'width': 640}, {'height': 300, 'url': 'https://i.scdn.co/image/ab67616d00001e025acd0df739682efabb292b87', 'width': 300}, {'height': 64, 'url': 'https://i.scdn.co/image/ab67616d000048515acd0df739682efabb292b87', 'width': 64}], 'name': 'Disco Ultralounge', 'release_date': '2014-12-25', 'release_date_precision': 'day', 'total_tracks': 21, 'type': 'album', 'uri': 'spotify:album:4R88Ml4Ecn7I94c4SyShcd'}, 'artists': [{'external_urls': {'spotify': 'https://open.spotify.com/artist/4fSMtiyC6lF5BUO1tUMWMs'}, 'href': 'https://api.spotify.com/v1/artists/4fSMtiyC6lF5BUO1tUMWMs', 'id': '4fSMtiyC6lF5BUO1tUMWMs', 'name': 'Kevin MacLeod', 'type': 'artist', 'uri': 'spotify:artist:4fSMtiyC6lF5BUO1tUMWMs'}], 'available_markets': ['AR', 'AU', 'AT', 'BE', 'BO', 'BR', 'BG', 'CA', 'CL', 'CO', 'CR', 'CY', 'CZ', 'DK', 'DO', 'DE', 'EC', 'EE', 'SV', 'FI', 'FR', 'GR', 'GT', 'HN', 'HK', 'HU', 'IS', 'IE', 'IT', 'LV', 'LT', 'LU', 'MY', 'MT', 'MX', 'NL', 'NZ', 'NI', 'NO', 'PA', 'PY', 'PE', 'PH', 'PL', 'PT', 'SG', 'SK', 'ES', 'SE', 'CH', 'TW', 'TR', 'UY', 'US', 'GB', 'AD', 'LI', 'MC', 'ID', 'JP', 'TH', 'VN', 'RO', 'IL', 'ZA', 'SA', 'AE', 'BH', 'QA', 'OM', 'KW', 'EG', 'MA', 'DZ', 'TN', 'LB', 'JO', 'PS', 'IN', 'BY', 'KZ', 'MD', 'UA', 'AL', 'BA', 'HR', 'ME', 'MK', 'RS', 'SI', 'KR', 'BD', 'PK', 'LK', 'GH', 'KE', 'NG', 'TZ', 'UG', 'AG', 'AM', 'BS', 'BB', 'BZ', 'BT', 'BW', 'BF', 'CV', 'CW', 'DM', 'FJ', 'GM', 'GE', 'GD', 'GW', 'GY', 'HT', 'JM', 'KI', 'LS', 'LR', 'MW', 'MV', 'ML', 'MH', 'FM', 'NA', 'NR', 'NE', 'PW', 'PG', 'PR', 'WS', 'SM', 'ST', 'SN', 'SC', 'SL', 'SB', 'KN', 'LC', 'VC', 'SR', 'TL', 'TO', 'TT', 'TV', 'VU', 'AZ', 'BN', 'BI', 'KH', 'CM', 'TD', 'KM', 'GQ', 'SZ', 'GA', 'GN', 'KG', 'LA', 'MO', 'MR', 'MN', 'NP', 'RW', 'TG', 'UZ', 'ZW', 'BJ', 'MG', 'MU', 'MZ', 'AO', 'CI', 'DJ', 'ZM', 'CD', 'CG', 'IQ', 'LY', 'TJ', 'VE', 'ET', 'XK'], 'disc_number': 1, 'duration_ms': 228075, 'explicit': False, 'external_ids': {'isrc': 'US-UAN-12-00002'}, 'external_urls': {'spotify': 'https://open.spotify.com/track/2n2a7CG0rgXadwWtVXN21F'}, 'href': 'https://api.spotify.com/v1/tracks/2n2a7CG0rgXadwWtVXN21F', 'id': '2n2a7CG0rgXadwWtVXN21F', 'is_local': False, 'name': 'Overcast', 'popularity': 22, 'preview_url': 'https://p.scdn.co/mp3-preview/b01ae509992c5cf9c3f42a4600e0b60e1416553d?cid=524464cad42e4b07a48f3326554f6b95', 'track_number': 16, 'type': 'track', 'uri': 'spotify:track:2n2a7CG0rgXadwWtVXN21F'}\n"
     ]
    }
   ],
   "source": [
    "print(song_data[0])"
   ]
  },
  {
   "cell_type": "code",
   "execution_count": 58,
   "id": "458f2342-d09a-4b3d-8332-29375e8d4a81",
   "metadata": {},
   "outputs": [
    {
     "name": "stdout",
     "output_type": "stream",
     "text": [
      "['spotify:track:2n2a7CG0rgXadwWtVXN21F', 'spotify:track:4JMB7StRYhP9YWrABz5mvv', 'spotify:track:5ACLrTERL7b7JQd2ZTfMjz', 'spotify:track:4Rg2G268G0g5macAixi0ni', 'spotify:track:1FbHpjJjWGwH0pYl9XFiSS', 'spotify:track:35xWgCIhFfnTT0FDLdbaZ1', 'spotify:track:5cYbYemspYYx4VxdTsvKYO', 'spotify:track:5jxw7FJ2JW3qBspTHRQu2U', 'spotify:track:1LAlLBTGBUO0MDA8IbSysd', 'spotify:track:1DB7sjKLuzCoIlSeRulE4Q', 'spotify:track:2e6RYZToDNxzu9LbqiZ9sg', 'spotify:track:0nkrBnZNJtO6uwdd1tCLS9', 'spotify:track:6eT4PDHm2UNjOQDH86THOg', 'spotify:track:0M4PcNyGDLhemL0Ro5NeFp', 'spotify:track:0wEGo9LsSrSUz9HOtraWAO', 'spotify:track:386Y2BhIiL8qvQihX80F3V', 'spotify:track:3imAwhFGvdTdRkavVADOIK', 'spotify:track:3nyhumqc6usMA1R2XH9UK6', 'spotify:track:36eCXw0b8seSZl4KtZ2AzJ', 'spotify:track:0UdssF0wBtkGmbTvCCEQFZ', 'spotify:track:1LVZuuDDnSImcW2Po44G7Q', 'spotify:track:6LOtnTB44h2h0ujL8pivtJ', 'spotify:track:3e7ATpok76UbrHG0tAWoWd', 'spotify:track:5nhKTXNuUK9gYaHIfGRSdC', 'spotify:track:1oJvrgdil8qHvqF543Upqd', 'spotify:track:3nHrPC7I2S0nsBT2nzGJSA', 'spotify:track:1Ny8RoE9nPqyM3xfMjwR81', 'spotify:track:6EBD0lwIxgBgiUDWfJ1cvj', 'spotify:track:0YLPp1XFg20lsWOiF6kYwm', 'spotify:track:22FCTP6VHzYcGMpV0rNfMm', 'spotify:track:4zWTya8tPMuoyDiJOLq5Vr', 'spotify:track:5tFB3DmcBnS6st75jFQlWB', 'spotify:track:0WOcJN6rOAsgAFTbnCze4J', 'spotify:track:5Ko02ldO65NmVX9GBCU2uV', 'spotify:track:0ITvwZjKGEKwiw2w6t0Rco', 'spotify:track:2WH2QAv25KfIuqtMNRucy6', 'spotify:track:7kcApwUclbIw9B6MuVmqPc', 'spotify:track:4geJYumRsMrAChwuSWa5yR', 'spotify:track:6ShMhtk1om88amkkiUrpS9', 'spotify:track:10ZZqCt5vg6Bwy5c21OG2z', 'spotify:track:6ujJmSj0ArAHKrhLwsirGh', 'spotify:track:5AKUFr4GmY4VSIX54hyDi9', 'spotify:track:7i2ZntdYyNmcGnptw8Dhbw', 'spotify:track:5ffdNfKHJqtFQofaL8fLCa', 'spotify:track:5b45GXKaxTKKKxAY5QOyvY', 'spotify:track:38LydFo7ocsTU2d7Me5j8t', 'spotify:track:5wI0QDFwHttWMZhIZVdHH1', 'spotify:track:65NDRsNTjKcfWVhqdPJIx9', 'spotify:track:6u9YLc23CTUnGVzKNj65ou', 'spotify:track:5fxtzPvQC8L81kEet9owJu']\n"
     ]
    }
   ],
   "source": [
    "# what is uri means? uniform resource identifier\n",
    "# need the uri for all the searched songs, then I can build my playlist\n",
    "song_uris = []\n",
    "\n",
    "for song in song_data:\n",
    "    song_uris.append(song['uri'])\n",
    "print(song_uris)"
   ]
  },
  {
   "cell_type": "code",
   "execution_count": 59,
   "id": "0c2cfd7d-5ef3-4995-ae6c-0c16b87a8eff",
   "metadata": {},
   "outputs": [],
   "source": [
    "my_playlist = sp.user_playlist_create(user=username, name=forecast, public=True,\n",
    "                                      description=\"Songs for the weather\")"
   ]
  },
  {
   "cell_type": "code",
   "execution_count": 60,
   "id": "11d9f5ad-f3ca-4fd9-98ec-69c0f7afe470",
   "metadata": {},
   "outputs": [
    {
     "data": {
      "text/plain": [
       "{'snapshot_id': 'AAAAAorNe9sLvmK9qLQpu907KrlsLM+8'}"
      ]
     },
     "execution_count": 60,
     "metadata": {},
     "output_type": "execute_result"
    }
   ],
   "source": [
    "# adding all of my songs to an empty playlist (that I just created)\n",
    "sp.user_playlist_add_tracks(username, my_playlist['id'], song_uris)"
   ]
  },
  {
   "cell_type": "code",
   "execution_count": 61,
   "id": "01451229-1766-4672-a6f6-2312fc8d95d6",
   "metadata": {},
   "outputs": [
    {
     "data": {
      "text/plain": [
       "True"
      ]
     },
     "execution_count": 61,
     "metadata": {},
     "output_type": "execute_result"
    }
   ],
   "source": [
    "# open up via the browser\n",
    "webbrowser.open(my_playlist['external_urls']['spotify'])"
   ]
  },
  {
   "cell_type": "code",
   "execution_count": 48,
   "id": "0b1b36ce-d238-4316-974c-64ae73bcbc50",
   "metadata": {},
   "outputs": [
    {
     "name": "stdout",
     "output_type": "stream",
     "text": [
      "Beichen Hu\n"
     ]
    }
   ],
   "source": [
    "print(username)"
   ]
  },
  {
   "cell_type": "code",
   "execution_count": null,
   "id": "e18bdca8-3f92-4e53-8eff-49b000a40ba8",
   "metadata": {},
   "outputs": [],
   "source": [
    "# open via my app\n",
    "sp.start_playback(device_id=deviceID, context_uri=my_playlist['uri'])"
   ]
  }
 ],
 "metadata": {
  "kernelspec": {
   "display_name": "Python 3 (ipykernel)",
   "language": "python",
   "name": "python3"
  },
  "language_info": {
   "codemirror_mode": {
    "name": "ipython",
    "version": 3
   },
   "file_extension": ".py",
   "mimetype": "text/x-python",
   "name": "python",
   "nbconvert_exporter": "python",
   "pygments_lexer": "ipython3",
   "version": "3.12.7"
  }
 },
 "nbformat": 4,
 "nbformat_minor": 5
}
