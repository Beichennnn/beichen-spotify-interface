{
 "cells": [
  {
   "cell_type": "code",
   "execution_count": 1,
   "id": "71f66f7f-b209-4128-9a3c-19a18e247ef9",
   "metadata": {},
   "outputs": [],
   "source": [
    "import spotipy\n",
    "import json\n",
    "import webbrowser\n",
    "import urllib.request\n",
    "import spotipy.util as util\n"
   ]
  },
  {
   "cell_type": "code",
   "execution_count": 2,
   "id": "a03cdc4b-88d6-4c71-96b7-8ea2fac9d9b1",
   "metadata": {},
   "outputs": [
    {
     "name": "stdout",
     "output_type": "stream",
     "text": [
      "ded46614c79d4af0915142557242910\n"
     ]
    }
   ],
   "source": [
    "# weather_file is a variable name representing my file\n",
    "with open('weather_key.txt','r') as weather_file:\n",
    "    weather_key = weather_file.read()\n",
    "\n",
    "print(weather_key)\n"
   ]
  },
  {
   "cell_type": "code",
   "execution_count": 4,
   "id": "0c37012a-bd95-42e7-947c-bd53b86c4714",
   "metadata": {},
   "outputs": [],
   "source": [
    "url = f\"http://api.weatherapi.com/v1/current.json?key={weather_key}&q=London&aqi=no\""
   ]
  },
  {
   "cell_type": "code",
   "execution_count": 5,
   "id": "fe50a7d0-6f4d-4383-ab0c-e1013678a98b",
   "metadata": {},
   "outputs": [],
   "source": [
    "# sending our url to the interwebs\n",
    "request = urllib.request.Request(url)\n",
    "# capture all the JSON coming back from the interwebs\n",
    "response = urllib.request.urlopen(request)"
   ]
  },
  {
   "cell_type": "code",
   "execution_count": 6,
   "id": "70151c5b-43db-4859-ae4b-02ed7c32b79c",
   "metadata": {},
   "outputs": [
    {
     "name": "stdout",
     "output_type": "stream",
     "text": [
      "<http.client.HTTPResponse object at 0x000001527CB4F4F0>\n"
     ]
    }
   ],
   "source": [
    "print(response)"
   ]
  },
  {
   "cell_type": "code",
   "execution_count": 7,
   "id": "b29f54d0-67d1-47d0-913f-5be14815da52",
   "metadata": {},
   "outputs": [
    {
     "name": "stdout",
     "output_type": "stream",
     "text": [
      "{'location': {'name': 'London', 'region': 'City of London, Greater London', 'country': 'United Kingdom', 'lat': 51.5171, 'lon': -0.1062, 'tz_id': 'Europe/London', 'localtime_epoch': 1730215172, 'localtime': '2024-10-29 15:19'}, 'current': {'last_updated_epoch': 1730214900, 'last_updated': '2024-10-29 15:15', 'temp_c': 15.1, 'temp_f': 59.2, 'is_day': 1, 'condition': {'text': 'Overcast', 'icon': '//cdn.weatherapi.com/weather/64x64/day/122.png', 'code': 1009}, 'wind_mph': 3.1, 'wind_kph': 5.0, 'wind_degree': 259, 'wind_dir': 'W', 'pressure_mb': 1024.0, 'pressure_in': 30.24, 'precip_mm': 0.0, 'precip_in': 0.0, 'humidity': 82, 'cloud': 50, 'feelslike_c': 15.1, 'feelslike_f': 59.2, 'windchill_c': 15.1, 'windchill_f': 59.1, 'heatindex_c': 14.7, 'heatindex_f': 58.4, 'dewpoint_c': 10.0, 'dewpoint_f': 50.0, 'vis_km': 10.0, 'vis_miles': 6.0, 'uv': 0.5, 'gust_mph': 4.9, 'gust_kph': 8.0}}\n"
     ]
    }
   ],
   "source": [
    "# pull out the JSON from the response object\n",
    "# loads converts a JSON string into a python dictionary\n",
    "weather_json = json.loads(response.read())\n",
    "print(weather_json)"
   ]
  },
  {
   "cell_type": "code",
   "execution_count": 10,
   "id": "f6ff5388-f96f-489d-9c18-52bb877c7ada",
   "metadata": {},
   "outputs": [
    {
     "name": "stdout",
     "output_type": "stream",
     "text": [
      "Overcast\n"
     ]
    }
   ],
   "source": [
    "forecast = weather_json['current']['condition']['text']\n",
    "print(forecast)"
   ]
  },
  {
   "cell_type": "code",
   "execution_count": 11,
   "id": "5adf9f53-3244-4587-b885-928b3ad27b43",
   "metadata": {},
   "outputs": [],
   "source": [
    "# open my spotify_keys and read them\n",
    "# 'r' is for read (ie we aren't writing to this file)\n",
    "# spotify_file is a variable name and \n",
    "with open('spotify_keys.json','r') as spotify_file:\n",
    "    # load reads a JSON string from a file\n",
    "    tokens = json.load(spotify_file)"
   ]
  },
  {
   "cell_type": "code",
   "execution_count": 17,
   "id": "40479cdb-027f-4548-8801-139cf9a0c482",
   "metadata": {},
   "outputs": [],
   "source": [
    "my_client_id = tokens['client_id']\n",
    "client_secret = tokens['client_secret']\n",
    "redirectURI = tokens['redirect']\n",
    "username = tokens['username']"
   ]
  },
  {
   "cell_type": "code",
   "execution_count": 18,
   "id": "41d95158-db4a-4d99-9e7e-cfb35526d354",
   "metadata": {},
   "outputs": [
    {
     "name": "stdin",
     "output_type": "stream",
     "text": [
      "Enter the URL you were redirected to:  https://www.google.com/?code=AQCaMaZfs3AyN9idNUEdv-ypqee53zbKDzsrF9OyzgxRnJ7N7fw34siWSTg-umrmGQ5ePTiTQ7qf7vyirJ-MqxeUBPMK0IABj0VoLDg3ZZ1IFdkxnkvIJFwaum5DXQMDk789Q3i6a0rSNd3Bwg6b3dR_pyCfpA5LaHc5qtpnQw48Rk1M8qWt3xTTNUEjgQ1gdUoNOWmE8BplQUepXwMDm9p8s8TiRPYr5agK3W3xwNBDf_C8uaebFTVhtD4iybqqdscDXU_UCdCaTDqI19F4c2e3zJyQK3o\n"
     ]
    }
   ],
   "source": [
    "scope = 'user-read-private user-read-playback-state user-modify-playback-state playlist-modify-public'\n",
    "# 'prompt_for_user_token' need some variable \n",
    "# left side of the = comes from the library\n",
    "# Right side of the = is my variable\n",
    "token = util.prompt_for_user_token(username, scope, client_id=my_client_id, client_secret=client_secret,redirect_uri=redirectURI)"
   ]
  },
  {
   "cell_type": "code",
   "execution_count": null,
   "id": "f32e7dba-022d-49ac-a7b5-4290684bb97b",
   "metadata": {},
   "outputs": [],
   "source": []
  }
 ],
 "metadata": {
  "kernelspec": {
   "display_name": "Python 3 (ipykernel)",
   "language": "python",
   "name": "python3"
  },
  "language_info": {
   "codemirror_mode": {
    "name": "ipython",
    "version": 3
   },
   "file_extension": ".py",
   "mimetype": "text/x-python",
   "name": "python",
   "nbconvert_exporter": "python",
   "pygments_lexer": "ipython3",
   "version": "3.12.7"
  }
 },
 "nbformat": 4,
 "nbformat_minor": 5
}
